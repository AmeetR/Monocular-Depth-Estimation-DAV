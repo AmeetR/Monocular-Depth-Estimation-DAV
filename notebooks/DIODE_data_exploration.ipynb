{
 "cells": [
  {
   "cell_type": "code",
   "execution_count": null,
   "id": "thirty-imperial",
   "metadata": {},
   "outputs": [],
   "source": [
    "import numpy as np\n",
    "import matplotlib.pyplot as plt\n",
    "import cv2\n",
    "import os\n",
    "\n",
    "%matplotlib inline"
   ]
  },
  {
   "cell_type": "code",
   "execution_count": null,
   "id": "sophisticated-clause",
   "metadata": {},
   "outputs": [],
   "source": [
    "data_dir = \"C:\\\\Data\\\\DIODE\\\\\""
   ]
  },
  {
   "cell_type": "code",
   "execution_count": null,
   "id": "played-amino",
   "metadata": {},
   "outputs": [],
   "source": [
    "os.listdir(data_dir)"
   ]
  },
  {
   "cell_type": "code",
   "execution_count": null,
   "id": "favorite-relay",
   "metadata": {},
   "outputs": [],
   "source": [
    "val_data = os.path.join(data_dir, 'val')\n",
    "val_data = os.path.join(val_data, 'val')"
   ]
  },
  {
   "cell_type": "markdown",
   "id": "fantastic-reputation",
   "metadata": {},
   "source": [
    "# Visualize some indoor data"
   ]
  },
  {
   "cell_type": "code",
   "execution_count": null,
   "id": "determined-track",
   "metadata": {},
   "outputs": [],
   "source": [
    "indoor_val_data = os.path.join(val_data, 'indoors')"
   ]
  },
  {
   "cell_type": "code",
   "execution_count": null,
   "id": "wicked-pepper",
   "metadata": {},
   "outputs": [],
   "source": [
    "test_data = os.path.join(indoor_val_data, 'scene_00019')\n",
    "test_data = os.path.join(test_data, 'scan_00183')"
   ]
  },
  {
   "cell_type": "code",
   "execution_count": null,
   "id": "moderate-affiliate",
   "metadata": {},
   "outputs": [],
   "source": [
    "img_test = cv2.imread(os.path.join(test_data, '00019_00183_indoors_000_010.png'))\n",
    "depth_test = np.load(os.path.join(test_data, '00019_00183_indoors_000_010_depth.npy'))\n",
    "depth_map_test = np.load(os.path.join(test_data, '00019_00183_indoors_000_010_depth_mask.npy'))"
   ]
  },
  {
   "cell_type": "code",
   "execution_count": null,
   "id": "fatal-royal",
   "metadata": {},
   "outputs": [],
   "source": [
    "fig, axes = plt.subplots(1,2)\n",
    "axes[0].imshow(img_test)\n",
    "axes[1].imshow(np.multiply(depth_test, depth_map_test.reshape(768,1024,1)), cmap='gray', vmin=0, vmax=50)\n"
   ]
  },
  {
   "cell_type": "code",
   "execution_count": null,
   "id": "driving-comedy",
   "metadata": {},
   "outputs": [],
   "source": [
    "depth_test = np.multiply(depth_test, depth_map_test.reshape(768,1024,1))"
   ]
  },
  {
   "cell_type": "code",
   "execution_count": null,
   "id": "established-thickness",
   "metadata": {},
   "outputs": [],
   "source": [
    "depth_test"
   ]
  },
  {
   "cell_type": "code",
   "execution_count": null,
   "id": "forward-project",
   "metadata": {},
   "outputs": [],
   "source": []
  }
 ],
 "metadata": {
  "kernelspec": {
   "display_name": "Python 3 (ipykernel)",
   "language": "python",
   "name": "python3"
  },
  "language_info": {
   "codemirror_mode": {
    "name": "ipython",
    "version": 3
   },
   "file_extension": ".py",
   "mimetype": "text/x-python",
   "name": "python",
   "nbconvert_exporter": "python",
   "pygments_lexer": "ipython3",
   "version": "3.8.8"
  }
 },
 "nbformat": 4,
 "nbformat_minor": 5
}
